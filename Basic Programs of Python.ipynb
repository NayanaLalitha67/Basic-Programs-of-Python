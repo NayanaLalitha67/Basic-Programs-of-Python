{
 "cells": [
  {
   "cell_type": "markdown",
   "id": "ddbfbb31",
   "metadata": {},
   "source": [
    "# 1.Second Largest Number"
   ]
  },
  {
   "cell_type": "code",
   "execution_count": null,
   "id": "95909241",
   "metadata": {},
   "outputs": [],
   "source": [
    "x=[1,2,4,8]\n",
    "maximum_no=x[0]\n",
    "maximum_no2=x[0]\n",
    "for i in range(len(x)):\n",
    "    if x[i]>maximum_no:\n",
    "        maximum_no=x[i]\n",
    "for i in range(len(x)):\n",
    "    if x[i]>maximum_no2 and x[i]!=maximum_no:\n",
    "        maximum_no2=x[i]\n",
    "print(maximum_no2)"
   ]
  },
  {
   "cell_type": "markdown",
   "id": "c9944b84",
   "metadata": {},
   "source": [
    "# 2. Fibonacci Series using recursion"
   ]
  },
  {
   "cell_type": "code",
   "execution_count": null,
   "id": "5d89a993",
   "metadata": {},
   "outputs": [],
   "source": [
    "def fibonacci(n):\n",
    "    if n<=1:\n",
    "        return n\n",
    "    else:\n",
    "       return fibonacci(n-1)+fibonacci(n-2)\n",
    "\n",
    "\n",
    "n=int(input())\n",
    "for i in range(n):\n",
    "    print(fibonacci(i))"
   ]
  },
  {
   "cell_type": "markdown",
   "id": "5adc5772",
   "metadata": {},
   "source": [
    "# 3.Fibonacci series"
   ]
  },
  {
   "cell_type": "code",
   "execution_count": null,
   "id": "5747e60c",
   "metadata": {},
   "outputs": [],
   "source": [
    "number=int(input())\n",
    "n1=0\n",
    "n2=1\n",
    "print(n1)\n",
    "print(n2)\n",
    "for i in range(2,number):\n",
    "   \n",
    "\n",
    "        n3=n1+n2\n",
    "        print(n1+n2)\n",
    "        n1=n2\n",
    "        n2=n3\n",
    "        \n",
    "    "
   ]
  },
  {
   "cell_type": "markdown",
   "id": "55c028c6",
   "metadata": {},
   "source": [
    "# 4.prime number"
   ]
  },
  {
   "cell_type": "code",
   "execution_count": null,
   "id": "b537765e",
   "metadata": {},
   "outputs": [],
   "source": [
    "lower=int(input())\n",
    "upper=int(input())\n",
    "for i in range(lower,upper+1):\n",
    "    count=0\n",
    "    \n",
    "    for j in range(2,i//2+1):\n",
    "        if i%j==0:\n",
    "            count=1\n",
    "            break\n",
    "    if count==0:\n",
    "            print(i)\n",
    "            "
   ]
  },
  {
   "cell_type": "markdown",
   "id": "bac9d525",
   "metadata": {},
   "source": [
    "# 5.Factorial using recursion"
   ]
  },
  {
   "cell_type": "code",
   "execution_count": null,
   "id": "aeb9969f",
   "metadata": {},
   "outputs": [],
   "source": [
    "def factorial(n):\n",
    "    if n<=1:\n",
    "        return 1\n",
    "    else:\n",
    "        return n*factorial(n-1)\n",
    "    \n",
    "    \n",
    "    \n",
    "    \n",
    "number=int(input())\n",
    "print(factorial(number))"
   ]
  },
  {
   "cell_type": "markdown",
   "id": "ebdedd9d",
   "metadata": {},
   "source": [
    "# 6.Pattern with   \"*\""
   ]
  },
  {
   "cell_type": "code",
   "execution_count": null,
   "id": "5e59327b",
   "metadata": {},
   "outputs": [],
   "source": [
    "x=int(input())\n",
    "for i in range(1,x+1):\n",
    "    print(\"* \"*i)"
   ]
  },
  {
   "cell_type": "markdown",
   "id": "48c4e7a9",
   "metadata": {},
   "source": [
    "# 7. Sum Of the Digits in a number"
   ]
  },
  {
   "cell_type": "code",
   "execution_count": null,
   "id": "28c7fbf3",
   "metadata": {},
   "outputs": [],
   "source": [
    "x=int(input())\n",
    "sum=0\n",
    "while x!=0:\n",
    "    rem=x%10\n",
    "    x=x//10\n",
    "    sum=sum+rem\n",
    "print(sum)"
   ]
  },
  {
   "cell_type": "markdown",
   "id": "f0d04aff",
   "metadata": {},
   "source": [
    "# 8.Palindrome number"
   ]
  },
  {
   "cell_type": "code",
   "execution_count": null,
   "id": "b915b67a",
   "metadata": {},
   "outputs": [],
   "source": [
    "x=int(input())\n",
    "temp=x\n",
    "sum=0\n",
    "while x!=0:\n",
    "    rem=x%10\n",
    "    sum=(sum*10)+rem\n",
    "    x=x//10\n",
    "if temp==sum:\n",
    "    print(\"Palindrome number\")\n",
    "else:\n",
    "    print(\"Not Palindrome number\")"
   ]
  },
  {
   "cell_type": "markdown",
   "id": "77c713bc",
   "metadata": {},
   "source": [
    "# 9.Leap Year Or Not"
   ]
  },
  {
   "cell_type": "code",
   "execution_count": null,
   "id": "0691320d",
   "metadata": {},
   "outputs": [],
   "source": [
    "x=int(input())\n",
    "if (x%4==0 and x%100!=0) or x%400==0:\n",
    "    print(\"the given no is leap year\",x)\n",
    "else:\n",
    "    print(\"the given no is not leap year\",x)"
   ]
  },
  {
   "cell_type": "markdown",
   "id": "0c585841",
   "metadata": {},
   "source": [
    "# 10.Armstrong Number - sum of nth power each digit to a n digit number is equal to that number -153"
   ]
  },
  {
   "cell_type": "code",
   "execution_count": null,
   "id": "19def8a4",
   "metadata": {},
   "outputs": [],
   "source": [
    "x=int(input())\n",
    "temp=x\n",
    "k=len(str(x))\n",
    "sums=0\n",
    "while x!=0:\n",
    "    rem=x%10\n",
    "    x=x//10\n",
    "    sums=sums+rem**k\n",
    "    \n",
    "if sums==temp:\n",
    "    print(\"given no is armstrong number\")\n",
    "else:\n",
    "    print(\"Not armstrong number\")"
   ]
  },
  {
   "cell_type": "markdown",
   "id": "c99fda26",
   "metadata": {},
   "source": [
    "# 11. Give number is Strong are not- sum of the factorial of each digit is equal to given that number(145)"
   ]
  },
  {
   "cell_type": "code",
   "execution_count": null,
   "id": "979249b7",
   "metadata": {},
   "outputs": [],
   "source": [
    "x=int(input())\n",
    "temp=x\n",
    "sums=0\n",
    "while x!=0:\n",
    "    rem=x%10\n",
    "    fact=1\n",
    "    while rem>=1:\n",
    "        fact=fact*rem\n",
    "        rem=rem-1\n",
    "    sums=sums+fact\n",
    "    x=x//10\n",
    "if sums==temp:\n",
    "    print(\"the given number is strong\")\n",
    "else:\n",
    "    print(\"the given number is not strong\")\n"
   ]
  },
  {
   "cell_type": "markdown",
   "id": "27377bf0",
   "metadata": {},
   "source": [
    "# 12.Pefect Number - if the sum of the divisor of a number is equal to that given number -28,6 "
   ]
  },
  {
   "cell_type": "code",
   "execution_count": null,
   "id": "e39626fd",
   "metadata": {},
   "outputs": [],
   "source": [
    "x=int(input())\n",
    "sums=0\n",
    "for i in range(1,x):\n",
    "    if x%i==0:\n",
    "        sums=sums+i\n",
    "if sums==x:\n",
    "    print(\"the given number is perfect number\")\n",
    "else:\n",
    "    print(\"Not perfect number\")\n",
    "    "
   ]
  },
  {
   "cell_type": "markdown",
   "id": "cd59ec37",
   "metadata": {},
   "source": [
    "# 13.Swap of two number using third variable"
   ]
  },
  {
   "cell_type": "code",
   "execution_count": null,
   "id": "52061b70",
   "metadata": {},
   "outputs": [],
   "source": [
    "a=int(input())\n",
    "b=int(input())\n",
    "temp=a\n",
    "a=b\n",
    "b=temp\n",
    "print(a)\n",
    "print(b)"
   ]
  },
  {
   "cell_type": "markdown",
   "id": "2bd30b52",
   "metadata": {},
   "source": [
    "# 14.Swap of two number without using third variable"
   ]
  },
  {
   "cell_type": "code",
   "execution_count": null,
   "id": "ad3a2b87",
   "metadata": {},
   "outputs": [],
   "source": [
    "a=int(input())\n",
    "b=int(input())\n",
    "a=a+b\n",
    "b=a-b\n",
    "a=a-b\n",
    "print(a)\n",
    "print(b)"
   ]
  },
  {
   "cell_type": "markdown",
   "id": "3a00473b",
   "metadata": {},
   "source": [
    "# 15.Harshad Number: If a number is divisible by the sum of its digits then it will be known as a Harshad Number.\n",
    "156\n",
    "\n"
   ]
  },
  {
   "cell_type": "code",
   "execution_count": null,
   "id": "f641941a",
   "metadata": {},
   "outputs": [],
   "source": [
    "x=int(input())\n",
    "temp=x\n",
    "sums=0\n",
    "while x!=0:\n",
    "    rem=x%10\n",
    "    x=x//10\n",
    "    sums=sums+rem\n",
    "if temp%sums==0:\n",
    "    print(\"Harshad Number\")\n",
    "else:\n",
    "    print(\"Not Harshad Number\")\n",
    "    "
   ]
  },
  {
   "cell_type": "markdown",
   "id": "e50243de",
   "metadata": {},
   "source": [
    "# 16.  Even OR Odd"
   ]
  },
  {
   "cell_type": "code",
   "execution_count": null,
   "id": "f153dac4",
   "metadata": {},
   "outputs": [],
   "source": [
    "x=int(input())\n",
    "if x%2==0:\n",
    "    print(\"Even\")\n",
    "else:\n",
    "    print(\"Odd\")"
   ]
  },
  {
   "cell_type": "markdown",
   "id": "827ff4ca",
   "metadata": {},
   "source": [
    "# 17.Reverse Number"
   ]
  },
  {
   "cell_type": "code",
   "execution_count": null,
   "id": "7919089f",
   "metadata": {},
   "outputs": [],
   "source": [
    "n=int(input())\n",
    "sums=0\n",
    "temp=n\n",
    "while n!=0:\n",
    "    rem=n%10\n",
    "    sums=(sums*10)+rem\n",
    "    n=n//10\n",
    "print(sums)"
   ]
  },
  {
   "cell_type": "markdown",
   "id": "4cc039ae",
   "metadata": {},
   "source": [
    "# 18.Convert Decimal to binary"
   ]
  },
  {
   "cell_type": "code",
   "execution_count": null,
   "id": "9d1d6770",
   "metadata": {},
   "outputs": [],
   "source": [
    "x=int(input())\n",
    "string=\"\"\n",
    "while x!=0:\n",
    "    rem=x%2\n",
    "    string=str(rem)+string\n",
    "    x=x//2\n",
    "print(string)"
   ]
  },
  {
   "cell_type": "markdown",
   "id": "c6fc5e1d",
   "metadata": {},
   "source": [
    "# 19. Compress String with Letter Count aabbbcc -a2b3c2"
   ]
  },
  {
   "cell_type": "code",
   "execution_count": null,
   "id": "f5e2e0b7",
   "metadata": {},
   "outputs": [],
   "source": [
    "def printRLE(st):\n",
    " \n",
    "    n = len(st)\n",
    "    i = 0\n",
    "    while i < n- 1:\n",
    " \n",
    "        # Count occurrences of\n",
    "        # current character\n",
    "        count = 1\n",
    "        while (i < n - 1 and st[i] == st[i + 1]):\n",
    "               count += 1\n",
    "               i += 1\n",
    "        i += 1\n",
    " \n",
    "        # Print character and its count\n",
    "        print(st[i - 1] +str(count),end = \"\")\n",
    "\n",
    "st = \"wwwwaaadexxxxxxywww\"\n",
    "printRLE(st)\n"
   ]
  },
  {
   "cell_type": "code",
   "execution_count": null,
   "id": "4e90141d",
   "metadata": {},
   "outputs": [],
   "source": [
    "string=\"aaabbcccdd\"\n",
    "dicta={}\n",
    "for i in string:\n",
    "    if i in dicta:\n",
    "        dicta[i]+=1\n",
    "    else:\n",
    "        dicta[i]=1\n",
    "string2=\"\"\n",
    "for key,value in dicta.items():\n",
    "    string2=string2+key+str(value)\n",
    "print(string2)\n",
    "    "
   ]
  },
  {
   "cell_type": "markdown",
   "id": "f2e505a7",
   "metadata": {},
   "source": [
    "# Celsius=(F-32)/1.8                                Farnheit=(C*1.8)+32"
   ]
  },
  {
   "cell_type": "markdown",
   "id": "9cd8ca3c",
   "metadata": {},
   "source": [
    "# 20.Convert to binary to decimal"
   ]
  },
  {
   "cell_type": "code",
   "execution_count": null,
   "id": "b8b2e72d",
   "metadata": {},
   "outputs": [],
   "source": [
    "x=\"100\"\n",
    "length=len(x)-1\n",
    "sums=0\n",
    "for i in range(len(x)):\n",
    "    k=int(x[i])\n",
    "    sums=sums+k*(2**length)\n",
    "    length=length-1\n",
    "print(sums)\n",
    "    \n"
   ]
  },
  {
   "cell_type": "markdown",
   "id": "438e2236",
   "metadata": {},
   "source": [
    "# 21.PATTERN Problems"
   ]
  },
  {
   "cell_type": "code",
   "execution_count": null,
   "id": "efb4ae79",
   "metadata": {},
   "outputs": [],
   "source": [
    "x=int(input())\n",
    "for i in range(x+1):\n",
    "    print(\"* \"*i)\n"
   ]
  },
  {
   "cell_type": "code",
   "execution_count": null,
   "id": "2e70ec8f",
   "metadata": {},
   "outputs": [],
   "source": [
    "x=int(input())\n",
    "for i in range(x+1):\n",
    "    space=\" \"*(x-i)\n",
    "    print(space+\"* \"*i)"
   ]
  },
  {
   "cell_type": "code",
   "execution_count": null,
   "id": "0521baff",
   "metadata": {},
   "outputs": [],
   "source": [
    "x=int(input())\n",
    "for i in range(x+1):\n",
    "    space=\" \"*(x-i+1)\n",
    "    k=\"\"\n",
    "    for j in range(i+1):\n",
    "        k=k+str(j)+\" \"\n",
    "    print(space+k)\n",
    "\n",
    "    \n",
    "    "
   ]
  },
  {
   "cell_type": "markdown",
   "id": "c62237d9",
   "metadata": {},
   "source": [
    "# 22.Remove Duplicate from List"
   ]
  },
  {
   "cell_type": "code",
   "execution_count": null,
   "id": "990493af",
   "metadata": {},
   "outputs": [],
   "source": [
    "x=[1,2,3,4,5,2,3,4]\n",
    "lista=[]\n",
    "for i in x:\n",
    "    if i in lista:\n",
    "        pass\n",
    "    else:\n",
    "        lista.append(i)\n",
    "print(lista)"
   ]
  },
  {
   "cell_type": "markdown",
   "id": "5b9f3d77",
   "metadata": {},
   "source": [
    "# 23. Duplicate charater in a string"
   ]
  },
  {
   "cell_type": "code",
   "execution_count": null,
   "id": "480b99c0",
   "metadata": {},
   "outputs": [],
   "source": [
    "x=\"combination\"\n",
    "string=\"\"\n",
    "for i in x:\n",
    "    if x.count(i)>1:\n",
    "       if i in string:\n",
    "          pass\n",
    "       else:\n",
    "          string=string+i\n",
    "print(string)"
   ]
  },
  {
   "cell_type": "markdown",
   "id": "cecefce5",
   "metadata": {},
   "source": [
    "# 24.GCD OF Two Numbers"
   ]
  },
  {
   "cell_type": "code",
   "execution_count": null,
   "id": "3fc445b6",
   "metadata": {},
   "outputs": [],
   "source": [
    "x=int(input())\n",
    "y=int(input())\n",
    "minimum=min(x,y)\n",
    "for i in range(1,minimum+1):\n",
    "    if x%i==0 and y%i==0:\n",
    "        gcd=i\n",
    "print(gcd)\n",
    "\n"
   ]
  },
  {
   "cell_type": "markdown",
   "id": "1c4db9c7",
   "metadata": {},
   "source": [
    "# 25.Square Root of a Number"
   ]
  },
  {
   "cell_type": "code",
   "execution_count": null,
   "id": "c6eb62b4",
   "metadata": {},
   "outputs": [],
   "source": [
    "x=int(input())\n",
    "k=int(x**0.5)\n",
    "print(k)"
   ]
  },
  {
   "cell_type": "markdown",
   "id": "4d89fa52",
   "metadata": {},
   "source": [
    "# 26. Reverse the words in a sentence"
   ]
  },
  {
   "cell_type": "code",
   "execution_count": null,
   "id": "c198bc5a",
   "metadata": {},
   "outputs": [],
   "source": [
    "x=input().split()\n",
    "y=x[::-1]\n",
    "k=\" \".join(y)\n",
    "print(k)\n",
    "\n"
   ]
  },
  {
   "cell_type": "markdown",
   "id": "3275191f",
   "metadata": {},
   "source": [
    "# 27. Element Missing in a Sorted Array"
   ]
  },
  {
   "cell_type": "code",
   "execution_count": null,
   "id": "f4626c65",
   "metadata": {},
   "outputs": [],
   "source": [
    "array=[1,2,3,4,5,6,7,8,9,11]\n",
    "lista=[]\n",
    "for i in range(array[0],array[-1]+1):\n",
    "    if i in array:\n",
    "        pass\n",
    "    else:\n",
    "        lista.append(i)\n",
    "print(lista)"
   ]
  },
  {
   "cell_type": "markdown",
   "id": "600169bf",
   "metadata": {},
   "source": [
    "# 28. Binary Search"
   ]
  },
  {
   "cell_type": "code",
   "execution_count": null,
   "id": "0b6601e7",
   "metadata": {},
   "outputs": [],
   "source": []
  },
  {
   "cell_type": "code",
   "execution_count": null,
   "id": "c70e38bc",
   "metadata": {},
   "outputs": [],
   "source": [
    "def binary_Search(x,number):\n",
    "    low=0\n",
    "    high=len(x)-1\n",
    "    mid=0\n",
    "    while low<=high:\n",
    "            mid=(low+high)//2\n",
    "            if x[mid]>number:\n",
    "                high=mid-1\n",
    "            elif x[mid]<number:\n",
    "                low=mid+1\n",
    "            else:\n",
    "                return mid\n",
    "\n",
    "    return -1\n",
    "x=[2,45,32,14,56]\n",
    "x.sort()\n",
    "number=int(input())\n",
    "result=binary_Search(x,number)\n",
    "if result==-1:\n",
    "    print(\"Element not present\")\n",
    "else:\n",
    "    print(\"Element is found \",x[result])\n"
   ]
  },
  {
   "cell_type": "markdown",
   "id": "260e750d",
   "metadata": {},
   "source": [
    "# 29.String is Anagram or Not"
   ]
  },
  {
   "cell_type": "code",
   "execution_count": null,
   "id": "c2d45278",
   "metadata": {},
   "outputs": [],
   "source": [
    "def anagram(str1,str2):\n",
    "    count1=[0]*256\n",
    "    count2=[0]*256\n",
    "    for i in str1:\n",
    "        count1[ord(i)]+=1\n",
    "    for j in str2:\n",
    "        count2[ord(j)]+=1\n",
    "    if len(str1)!=len(str2):\n",
    "        return 0\n",
    "    else:\n",
    "        for k in range(256):\n",
    "            if count1[k]!=count2[k]:\n",
    "                return 0\n",
    "        return 1 \n",
    "    \n",
    "    \n",
    "    \n",
    "    \n",
    "\n",
    "    \n",
    "    \n",
    "str1=input()\n",
    "str2=input()\n",
    "result=anagram(str1,str2)\n",
    "if result==0:\n",
    "    print(\"Given string is not anagram\")\n",
    "else:\n",
    "    print(\"Given string are anagram\")"
   ]
  },
  {
   "cell_type": "markdown",
   "id": "afb716b0",
   "metadata": {},
   "source": [
    "# 30. return string which have a given character"
   ]
  },
  {
   "cell_type": "code",
   "execution_count": null,
   "id": "5865e6e1",
   "metadata": {},
   "outputs": [],
   "source": [
    "list1=input().split()\n",
    "print(x)\n",
    "lista=[]\n",
    "string=input()\n",
    "for i in list1:\n",
    "    if string in i:\n",
    "        lista.append(i)\n",
    "print(lista)\n",
    "        \n"
   ]
  },
  {
   "cell_type": "markdown",
   "id": "e5f2a449",
   "metadata": {},
   "source": [
    "# 31. Non repeated character"
   ]
  },
  {
   "cell_type": "code",
   "execution_count": null,
   "id": "2d3335fa",
   "metadata": {},
   "outputs": [],
   "source": [
    "x=input().split()\n",
    "lista=[]\n",
    "for i in x:\n",
    "    if i not in lista:\n",
    "        lista.append(i)\n",
    "print(lista)"
   ]
  },
  {
   "cell_type": "markdown",
   "id": "ba33b41c",
   "metadata": {},
   "source": [
    "# 32. Permutation of the string"
   ]
  },
  {
   "cell_type": "code",
   "execution_count": null,
   "id": "56e9a6da",
   "metadata": {},
   "outputs": [],
   "source": [
    "import itertools\n",
    "string=input()\n",
    "permutation_string=list(itertools.permutations(string))\n",
    "\n",
    "for i in permutation_string:\n",
    "    k=\" \".join(i)\n",
    "    print(k)"
   ]
  },
  {
   "cell_type": "markdown",
   "id": "cb7ed8f2",
   "metadata": {},
   "source": [
    "# 33. Remove white space string"
   ]
  },
  {
   "cell_type": "code",
   "execution_count": null,
   "id": "d2583283",
   "metadata": {},
   "outputs": [],
   "source": [
    "x=input()\n",
    "\n",
    "k=x.replace(\" \",\"\")\n",
    "print(k)\n",
    "    "
   ]
  },
  {
   "cell_type": "markdown",
   "id": "6333320f",
   "metadata": {},
   "source": [
    "# 34. String Rotation"
   ]
  },
  {
   "cell_type": "code",
   "execution_count": null,
   "id": "ce8126da",
   "metadata": {},
   "outputs": [],
   "source": [
    "string=\"Lalitha\"\n",
    "no_of_rotation=int(input())\n",
    "length=len(string)\n",
    "rotate=no_of_rotation%length\n",
    "first_string=string[:no_of_rotation]\n",
    "second_string=string[no_of_rotation:]\n",
    "print(second_string+first_string)"
   ]
  },
  {
   "cell_type": "markdown",
   "id": "bf4d9224",
   "metadata": {},
   "source": [
    "# 35. num2words"
   ]
  },
  {
   "cell_type": "code",
   "execution_count": 3,
   "id": "fc60201f",
   "metadata": {},
   "outputs": [
    {
     "name": "stdout",
     "output_type": "stream",
     "text": [
      "Requirement already satisfied: num2words in c:\\users\\lalitha\\anaconda3\\lib\\site-packages (0.5.12)\n",
      "Requirement already satisfied: docopt>=0.6.2 in c:\\users\\lalitha\\anaconda3\\lib\\site-packages (from num2words) (0.6.2)\n",
      "Note: you may need to restart the kernel to use updated packages.\n"
     ]
    }
   ],
   "source": [
    "pip install num2words"
   ]
  },
  {
   "cell_type": "code",
   "execution_count": 4,
   "id": "8717bed9",
   "metadata": {},
   "outputs": [
    {
     "name": "stdout",
     "output_type": "stream",
     "text": [
      "thirty-six\n"
     ]
    }
   ],
   "source": [
    "from num2words import num2words\n",
    "print(num2words(36))"
   ]
  },
  {
   "cell_type": "code",
   "execution_count": 5,
   "id": "f6e49d67",
   "metadata": {},
   "outputs": [
    {
     "name": "stdout",
     "output_type": "stream",
     "text": [
      "20\n",
      "10\n"
     ]
    }
   ],
   "source": [
    "x=10\n",
    "y=20\n",
    "x,y=y,x\n",
    "print(x)\n",
    "print(y)"
   ]
  },
  {
   "cell_type": "markdown",
   "id": "ca9d3551",
   "metadata": {},
   "source": [
    "# 36. Multiplication Table"
   ]
  },
  {
   "cell_type": "code",
   "execution_count": 8,
   "id": "25a2607a",
   "metadata": {},
   "outputs": [
    {
     "name": "stdout",
     "output_type": "stream",
     "text": [
      "5\n",
      "5*0=0\n",
      "5*1=5\n",
      "5*2=10\n",
      "5*3=15\n",
      "5*4=20\n",
      "5*5=25\n",
      "5*6=30\n",
      "5*7=35\n",
      "5*8=40\n",
      "5*9=45\n",
      "5*10=50\n"
     ]
    }
   ],
   "source": [
    "x=int(input())\n",
    "for i in range(11):\n",
    "    print(str(x)+\"*\"+str(i)+\"=\"+str(x*i))\n",
    "    "
   ]
  },
  {
   "cell_type": "code",
   "execution_count": 1,
   "id": "b9caa39e",
   "metadata": {},
   "outputs": [
    {
     "name": "stdout",
     "output_type": "stream",
     "text": [
      "lalitha\n",
      "['lalitha']\n"
     ]
    }
   ],
   "source": [
    "x=input().split()\n"
   ]
  },
  {
   "cell_type": "code",
   "execution_count": null,
   "id": "a8acaf99",
   "metadata": {},
   "outputs": [],
   "source": []
  }
 ],
 "metadata": {
  "kernelspec": {
   "display_name": "Python 3 (ipykernel)",
   "language": "python",
   "name": "python3"
  },
  "language_info": {
   "codemirror_mode": {
    "name": "ipython",
    "version": 3
   },
   "file_extension": ".py",
   "mimetype": "text/x-python",
   "name": "python",
   "nbconvert_exporter": "python",
   "pygments_lexer": "ipython3",
   "version": "3.9.13"
  }
 },
 "nbformat": 4,
 "nbformat_minor": 5
}
